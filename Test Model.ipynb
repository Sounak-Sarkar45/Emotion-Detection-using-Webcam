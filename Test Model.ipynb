{
 "cells": [
  {
   "cell_type": "code",
   "execution_count": null,
   "id": "02bd146d-495c-4f2a-b9f6-8ee49157a049",
   "metadata": {},
   "outputs": [],
   "source": [
    "import pickle\n",
    "import cv2\n",
    "from utils import get_face_landmarks"
   ]
  },
  {
   "cell_type": "code",
   "execution_count": null,
   "id": "d41deedc-5a2e-44c5-95da-8b321aefa4a2",
   "metadata": {},
   "outputs": [],
   "source": [
    "emotions = ['HAPPY', 'SAD', 'SURPRISED']"
   ]
  },
  {
   "cell_type": "code",
   "execution_count": null,
   "id": "c758f838-317a-4197-abac-5499560e0f3f",
   "metadata": {},
   "outputs": [],
   "source": [
    "with open('./model', 'rb') as f:\n",
    "    model = pickle.load(f)\n",
    "cap = cv2.VideoCapture(0)\n",
    "ret, frame = cap.read()\n",
    "while ret:\n",
    "    ret, frame = cap.read()\n",
    "    face_landmarks = get_face_landmarks(frame, draw=True, static_image_mode=False)\n",
    "    output = model.predict([face_landmarks])\n",
    "    cv2.putText(frame,\n",
    "                emotions[int(output[0])],\n",
    "               (10, frame.shape[0] - 1),\n",
    "               cv2.FONT_HERSHEY_SIMPLEX,\n",
    "               3,\n",
    "               (0, 255, 0),\n",
    "               5)\n",
    "    cv2.imshow('frame', frame)\n",
    "    cv2.waitKey(25)\n",
    "cap.release()\n",
    "cv2.destroyAllWindows()"
   ]
  }
 ],
 "metadata": {
  "kernelspec": {
   "display_name": "Python 3 (ipykernel)",
   "language": "python",
   "name": "python3"
  },
  "language_info": {
   "codemirror_mode": {
    "name": "ipython",
    "version": 3
   },
   "file_extension": ".py",
   "mimetype": "text/x-python",
   "name": "python",
   "nbconvert_exporter": "python",
   "pygments_lexer": "ipython3",
   "version": "3.9.21"
  }
 },
 "nbformat": 4,
 "nbformat_minor": 5
}
