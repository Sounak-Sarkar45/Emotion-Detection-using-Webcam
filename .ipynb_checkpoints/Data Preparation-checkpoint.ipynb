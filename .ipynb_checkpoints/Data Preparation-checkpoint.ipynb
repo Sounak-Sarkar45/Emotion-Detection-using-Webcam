{
 "cells": [
  {
   "cell_type": "code",
   "execution_count": null,
   "id": "bab8566d-f06b-4557-913c-0492a7f683e2",
   "metadata": {},
   "outputs": [],
   "source": [
    "import os\n",
    "import cv2\n",
    "import numpy as np\n",
    "from utils import get_face_landmarks"
   ]
  },
  {
   "cell_type": "code",
   "execution_count": 2,
   "id": "f94f4e22-c035-4756-9839-a3ebf1253437",
   "metadata": {},
   "outputs": [],
   "source": [
    "data_dir = './data'\n",
    "output = []"
   ]
  },
  {
   "cell_type": "code",
   "execution_count": 3,
   "id": "a231b587-dff4-4416-8b25-f7a5a0953581",
   "metadata": {
    "scrolled": true
   },
   "outputs": [],
   "source": [
    "for emotion_indx, emotion in enumerate(sorted(os.listdir(data_dir))):\n",
    "    for image_path_ in os.listdir(os.path.join(data_dir, emotion)):\n",
    "        image_path = os.path.join(data_dir, emotion, image_path_)\n",
    "        image = cv2.imread(image_path)\n",
    "        face_landmarks = get_face_landmarks(image)\n",
    "        if len(face_landmarks) == 1404:\n",
    "            face_landmarks.append(int(emotion_indx))\n",
    "            output.append(face_landmarks)\n",
    "np.savetxt('data.txt', np.asarray(output))"
   ]
  }
 ],
 "metadata": {
  "kernelspec": {
   "display_name": "Python 3 (ipykernel)",
   "language": "python",
   "name": "python3"
  },
  "language_info": {
   "codemirror_mode": {
    "name": "ipython",
    "version": 3
   },
   "file_extension": ".py",
   "mimetype": "text/x-python",
   "name": "python",
   "nbconvert_exporter": "python",
   "pygments_lexer": "ipython3",
   "version": "3.9.21"
  }
 },
 "nbformat": 4,
 "nbformat_minor": 5
}
